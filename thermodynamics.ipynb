{
 "cells": [
  {
   "cell_type": "markdown",
   "metadata": {},
   "source": [
    "# Intelligent Heating Machine: Thermodynamic Model"
   ]
  },
  {
   "cell_type": "markdown",
   "metadata": {},
   "source": [
    "# First Model\n",
    "\n",
    "In this first part of the project our objective is to develop a simple model of the drying process of a drying machine (for reference, the Ken Energy Systems IQ6 Washing/Disinfectant Machine). This model, although very fundamental, will serve us as a first step towards developing a more sophisticated simulation. Our final objective is to create a Digital Twin of the machine, meaning that using the thermodynamical model and with the help of real world data, we can emulate the machine virtually with as little error as possible."
   ]
  },
  {
   "cell_type": "markdown",
   "metadata": {},
   "source": [
    "### Initial Assumptions\n",
    "\n",
    "In order to develop a \"first-approach\" mathematical model of the drying process, we must begin by following these assumptions:\n",
    "\n",
    "- The object to dry in this case usually corresponds to medical instruments, which are predominantly fabricated with Stainless Steel (?). Furthermore, these objects come in various shapes and sizes, and therefore their surface areas are difficult to estimate. To solve this problem, we will begin by studying the drying process of a simple cube of stainless steel whose weight is going to equal the weight of the drying load (which could be measured before each wash begins). Furthermore, we will also assume that this material presents no porosity (that is, it is homogeneous and isotropic in the interior).\n",
    "  \n",
    "- Furthermore, the porosity of an object has also been shown to affect the drying velocity, as water molecules found inside the object have to travel via diffusion (?) to the surface. This is mainly found in the drying of organic materials, and for our purposes the object we will be dealing with is homogeneous and uniform, presenting no porosity and having all of its water contents on the surface.\n",
    "  \n",
    "- The machine consists of a simple convective dryer. This means, the main input parameters are the temperature of the air being inserted into the chamber, the humidity of this air (which must preferably be as low as possible), and the velocity of the air or airflow. That is, the \"input\" state is given by $x_{\\text{in}} = (T, H, v_{\\text{air}})$.\n",
    "  \n",
    "- The \"output\" state in which we are interested is given by the temperature and humidity inside of the chamber (or equivalently, $T$ and $H$ of the air coming out of the chamber). Therefore, $x_{\\text{out}} = (T, H)$\n",
    "  \n",
    "- The usage of different gases has been shown to improve the efficacy of the drying process, as different compounds \"allow\" for better water vapour absorption. However, to simplify the model, we will only be considering dry air as the input gas.\n"
   ]
  },
  {
   "cell_type": "markdown",
   "metadata": {},
   "source": [
    "### Drying Process: Definitions and Main Idea"
   ]
  },
  {
   "cell_type": "markdown",
   "metadata": {},
   "source": [
    "! This section contains a lot of useful information gathered from various literature sources. Very unorganized for now."
   ]
  },
  {
   "cell_type": "markdown",
   "metadata": {},
   "source": [
    "Drying: process of separation of moisture from wet substances. Various methods (mechanical, physical-chamical, thermal). In industry, drying process removes moisture via evaporation.\n",
    "\n",
    "Thermal or convective drying includes a simultaneous heat and mass transfer. Energy necessary for water evaporation is supplied from a convective heat transfer between the hot dry air (drying medium) and the colder material. The evaporated moisture (water vapour) is transported with the air flow outside, to the ambient medium. \n",
    "\n",
    "Procedure: moist material supplied into dryer, where it comes into contact with hot, dry air. This hot air transfers heat to the material, which increases the thermal agitation of the water molecules and leads to evaporation (discuss evaporation more?). The vapor diffuses into the air and saturates it. \n",
    "\n",
    "For non-porous materials, evaporations takes place only on the material surface. A layer of saturated air in thermodynamical equilibrium with wet material appears at the material surface. This air is considered saturated, as if it appeared over a free water surface, with temperature equal to wet bulb temperature (?) also temperature of dried material. Drying rate primarly depends on external drying conditions: temperature, relative humidity, flow of air velocity.\n",
    "\n",
    "[Stefan J. Kowalski - Thermodynamics of Drying Processes]"
   ]
  },
  {
   "cell_type": "markdown",
   "metadata": {},
   "source": [
    "Drying curves: mass decrement versus time (at stable drying conditions, weight change of material inside chamber, unsure if this is a possible measurement (?)). Angle of inclination of tangent to curve at given point is the measure of the drying rate.\n",
    "\n",
    "Typical structure for convective drying (of capillary-porous materials):\n",
    "- Preheating period - Non-linear curve\n",
    "- Constant drying rate period - Straight section. At point K: critical point of drying, curve tends asymptotically to the equilibrium moisture content at given conditions, critical moisture content (first period of drying, mainly evaporation)\n",
    "- Falling rate period -  (second period of drying, mainly internal diffusion (?) in porous materials)\n",
    "\n",
    "[Stefan J. Kowalski - Thermodynamics of Drying Processes]"
   ]
  },
  {
   "cell_type": "markdown",
   "metadata": {},
   "source": []
  }
 ],
 "metadata": {
  "language_info": {
   "name": "python"
  }
 },
 "nbformat": 4,
 "nbformat_minor": 2
}
