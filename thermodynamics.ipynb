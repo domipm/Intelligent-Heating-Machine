{
 "cells": [
  {
   "cell_type": "markdown",
   "metadata": {},
   "source": [
    "# Intelligent Heating Machine: Thermodynamic Background"
   ]
  },
  {
   "cell_type": "markdown",
   "metadata": {},
   "source": [
    "# Model 1: Basics\n",
    "\n",
    "In this first part of the project our objective is to develop a simple model of the drying process of a drying machine (for reference, the Ken Energy Systems IQ6 Washing/Disinfectant Machine). This model, although very fundamental, will serve us as a first step towards developing a more sophisticated simulation. Our final objective is to create a Digital Twin of the machine, meaning that using the thermodynamical model and with the help of real world data, we can emulate the machine virtually with as little error as possible."
   ]
  },
  {
   "cell_type": "markdown",
   "metadata": {},
   "source": []
  }
 ],
 "metadata": {
  "language_info": {
   "name": "python"
  }
 },
 "nbformat": 4,
 "nbformat_minor": 2
}
