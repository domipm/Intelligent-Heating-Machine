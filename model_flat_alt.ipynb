{
 "cells": [
  {
   "cell_type": "markdown",
   "metadata": {},
   "source": []
  },
  {
   "cell_type": "markdown",
   "metadata": {},
   "source": [
    "# Thermodynamical Model: Drying of Wet Flat Surface with Parallel Airflow"
   ]
  },
  {
   "cell_type": "markdown",
   "metadata": {},
   "source": [
    "In this section, we will study the convective drying of a solid, non-porous and non-hygroscopic material (for example, stainless steel) with a thin layer of unbound water or moisture, of thickness $\\delta$, which we will assume covers completely the effective drying area $A$ of the object and is spread out uniformly.\n",
    "\n",
    "We will treat this as a two-dimensional system, where a flow of dry air ($X_0 = 0$) at a certain temperature $T_{0}$ and velocity $v_0$ incides parallel (tangential) to the surface, whose characteristic length is $L$. The walls and supporting tray inside the dryer are considered adiabatic, meaning no heat is exchanged with them.\n",
    "\n",
    "## Heat Transfer\n",
    "\n",
    "The hot air entering the system will transfer heat via convection to the thin water layer on the objects surface. This process implies a heat flow $Q_{\\text{conv,a-w}}$ in the surface air-water (measured in [J/s]). Convection may also heat up the object from its sides, impling another heat flow in the layer air-solid. However, we will assume the object only heats up over the effective drying area which is covered by water, so this contribution can be neglected.\n",
    "\n",
    "Inside the water layer, convection will transfer the heat from its surface to the deeper layers. However, due to the water layer being very thin, we can neglect this contribution and assume its temperature changes uniformly. Similarly, inside the solid, conduction will propagate heat from the upper surface to the interior. Again, we may neglect this term as we can assume a solid also very thin and with a uniform temperature.\n",
    "\n",
    "Finally, a heat transfer will also appear between the water layer and the solid, resulting in different heating rates. This is given by $Q_{\\text{cond,w-s}}$. Between these two layers, convection may also happen, however in smaller temperature cases it can be neglected (as is the case, since both materials have the same initial temperature).\n",
    "\n",
    "On the other hand, this heat will be used up mainly in two processes: the increment of temperature, and evaporation of water. For the water surface, we have a latent heat consumption $Q_{\\text{lat,w}}$. Similarly, the solid will also heat up, resulting in a latent heat consumption of $Q_{\\text{lat,s}}$.\n",
    "\n",
    "The evaporation process, which only occurs on the water layer surface, will have associated a vaporization heat loss $Q_{\\text{vap,w}}$.\n",
    "\n",
    "An additional term $Q_{\\text{loss}}$ can be included to account for heat loss due to other mechanisms. For now, we will neglect this and assume an ideal system.\n",
    "\n",
    "Due to conservation of energy, the heat gained by the water-solid system due to convection must be equal to the heat lost due to the other processes. Therefore, this leaves us with the following balance equation:\n",
    "$$\n",
    "Q_{\\text{conv, a-w}} = Q_{\\text{cond,w-s}} + Q_{\\text{temp,w}} + Q_{\\text{temp,s}} + Q_{\\text{vap,w}}\n",
    "$$\n",
    "\n",
    "For convection, we can make use of Newton's law of cooling:\n",
    "$$\n",
    "Q_{\\text{conv}} = hA(T_w - T_0)\n",
    "$$\n",
    "where $h$ is the convective heat transfer coefficient to-be-determined.\n",
    "\n",
    "For conduction, we can use Fourier's conduction law:\n",
    "$$\n",
    "Q_{\\text{cond}} = -k_s(T_w - T_s)\n",
    "$$\n",
    "where $k$ is the conductivity of the material.\n",
    "\n",
    "The specific thermal heat is related to a temperature change given by:\n",
    "$$\n",
    "Q_{\\text{temp}} = m_i c_i \\Delta T\n",
    "$$\n",
    "where $m_i$ is the mass of the object $i$ and $c_i$ is the specific heat.\n",
    "\n",
    "Finally, the latent heat of vaporization can be written as:\n",
    "$$\n",
    "Q_{\\text{vap}} = L_v m_w \n",
    "$$\n",
    "\n",
    "In this process, the specific heat $c_i(T)$ and latent heat $L_v(T)$ both depend on the temperature and therefore will change during the process. The mass of the water $m_w(t)$ will depend on time, and all temperatures $T_s(t)$ and $T_w(t)$ will also depend on time. Thermal conductivity may also change with temperature, $k_s(T)$. Therefore, the heat balance equation takes the form:\n",
    "$$\n",
    "hA(T_w(t) - T_0) = -k_s(T)(T_w(t) - T_s(t)) + m_w(t)c_w(T) \\Delta T_w + m_s c_s(T) \\Delta T_s + L_v(T) m_w(t)\n",
    "$$\n",
    "\n",
    "To simplify, let's ignore the temperature dependency of the parameters, leaving us with:\n",
    "$$\n",
    "hA(T_w(t) - T_0) = -k_s(T_w(t) - T_s(t)) + m_w(t)c_w \\Delta T_w + m_s c_s \\Delta T_s + L_v m_w(t)\n",
    "$$\n",
    "\n",
    "We can simplity even further by assuming the water and solid are the same temperature $T$ (removing conduction between them):\n",
    "$$\n",
    "hA(T(t) - T_0) = m_w(t)c_w \\Delta T + m_s c_s \\Delta T + L_v m_w(t)\n",
    "$$\n",
    "\n",
    "Replacing the discrete $\\Delta T$ with time derivatives:\n",
    "$$\n",
    "hA(T(t) - T_0) = m_w(t)c_w \\frac{dT(t)}{dt} + m_s c_s \\frac{dT(t)}{dt} + L_v m_w(t)\n",
    "$$\n",
    "\n",
    "Rewriting:\n",
    "$$\n",
    "\\frac{dT(t)}{dT} \\Big( m_w(t)c_w + m_s c_s \\Big) - T(t)\\Big(hA\\Big) = \\Big( -hAT_0 - L_v m_w(t) \\Big)\n",
    "$$"
   ]
  },
  {
   "cell_type": "markdown",
   "metadata": {},
   "source": [
    "## Heat Transfer Coefficient\n",
    "\n",
    "Assuming laminar flow over a flat plane with tangential flow, we can determine the heat transfer coefficient numerically using correlations with Reynolds, Prandtl and Nusselt numbers (calculation done in model_flat.ipynb). This correlation, determined empirically, is given by:\n",
    "$$\n",
    "h = \\frac{0.664\\,k\\,\\text{Re}^{1/2}\\text{Pr}^{1/3}}{L}\n",
    "$$\n",
    "whose value can be calculated with the known parameters."
   ]
  },
  {
   "cell_type": "markdown",
   "metadata": {},
   "source": [
    "## Mass Transfer\n",
    "\n",
    "For the mass transfer, we have a certain amount of dry air $m_{a,in}$ coming into the chamber, and we can assume that the same amout comes out $m_{a,out}$, however now also a part of the water content will come out of the chamber, $m_{w}$. Therefore, we will have moist air as output. Since initially, the air is dry, we assume that the vaporization rate is slow enough as to never saturate the air surrounding it, and therefore all the moisture which vaporizes can be absorbed into the dry air.\n",
    "\n",
    "The variation over time of the water content will be given by:\n",
    "$$\n",
    "\\frac{dm_w(t)}{dt} = h_m A (C(t) - C_0)\n",
    "$$\n",
    "where $C_i$ is the concentration of water and $h_m$ is the convective mass transfer coefficient.\n",
    "\n",
    "The coefficient can be obtain in a similar procedure to heat transfer coefficient, by considering empirical correlations. It can also be obtained via analogy with heat transfer coefficient.\n",
    "\n",
    "(Let's assume for now it is just a constant whose value we know). The concentration of water will be given by the total mass of water divided by the volume of the thin layer: $C(t) = m_w(t)/(A\\delta(t))$. The concentration $C_0$ is the concentration of inflowing air, which we consider zero (the air is completely dry). The main problem here is that the thickness of the water layer $\\delta(t)$ also depends on time.\n",
    "\n",
    "Let's assume for now that $\\delta(t) = \\alpha m_w(t)$ depends linearly on the total water mass ($\\alpha > 0$ since as mass decreases, thickness must also decrease). This gives us:\n",
    "$$\n",
    "\\frac{dm_w(t)}{dt} = \\frac{h_m m_w(t)}{\\alpha m_w(t)} = \\frac{h_m}{\\alpha} \\implies m_w(t) = A\\,e^{ht/\\alpha}\n",
    "$$"
   ]
  },
  {
   "cell_type": "markdown",
   "metadata": {},
   "source": [
    "## Differential Equation\n",
    "\n",
    "The differential equation we are left to solve is:\n",
    "$$\n",
    "\\frac{dT(t)}{dT} \\Big( A\\,e^{ht/\\alpha}\\,c_w + m_s c_s \\Big) - T(t)\\Big(hA\\Big) = \\Big( -hAT_0 - L_v A\\,e^{ht/\\alpha} \\Big)\n",
    "$$\n",
    "\n",
    "Normalizing:\n",
    "$$\n",
    "\\frac{dT(t)}{dT} - T(t)\\Big( \\frac{hA}{A\\,e^{ht/\\alpha}\\,c_w + m_s c_s} \\Big) = \\Big( -hAT_0 - L_v A\\,e^{ht/\\alpha} \\Big) \\sim \\frac{dT(t)}{dt} - T(t)\\,f(t) = g(t)\n",
    "$$\n",
    "\n",
    "With initial condition $T(t=0)$ known value.\n",
    "\n",
    "We could try to solve it with sympy."
   ]
  },
  {
   "cell_type": "code",
   "execution_count": 12,
   "metadata": {},
   "outputs": [
    {
     "data": {
      "text/latex": [
       "$\\displaystyle - \\frac{A h T{\\left(t \\right)}}{{2.71828182845905}^{\\frac{h t}{a}} A c_{w} + c_{s} m_{s}} + \\frac{d}{d t} T{\\left(t \\right)} = - {2.71828182845905}^{\\frac{h t}{a}} A L_{v} - A T_{0} h$"
      ],
      "text/plain": [
       "Eq(-A*h*T(t)/(2.71828182845905**(h*t/a)*A*c_w + c_s*m_s) + Derivative(T(t), t), -2.71828182845905**(h*t/a)*A*L_v - A*T_0*h)"
      ]
     },
     "execution_count": 12,
     "metadata": {},
     "output_type": "execute_result"
    }
   ],
   "source": [
    "import sympy as sym\n",
    "import numpy as np\n",
    "\n",
    "t = sym.Symbol(\"t\")\n",
    "T = sym.Function('T')(t)\n",
    "\n",
    "h, A, c_w, m_s, c_s, a, T_0, L_v = sym.symbols(\"h, A, c_w, m_s, c_s, a, T_0, L_v\")\n",
    "\n",
    "eq = sym.Eq( sym.diff(T, t) - T*( h*A/(A*np.e**(h*t/a)*c_w + m_s*c_s ) ) , ( -h*A*T_0 - L_v*A*np.e**(h*t/a) ))\n",
    "eq\n"
   ]
  },
  {
   "cell_type": "code",
   "execution_count": 14,
   "metadata": {},
   "outputs": [
    {
     "data": {
      "text/latex": [
       "$\\displaystyle T{\\left(t \\right)} = \\frac{\\left(- A^{2} L_{v} c_{w} \\int \\frac{{5.91124487914454 \\cdot 10^{40}}^{\\frac{h t}{a}} e^{- A h \\int \\frac{{8.0 \\cdot 10^{39}}^{\\frac{h t}{a}}}{{2.17462546276724 \\cdot 10^{40}}^{\\frac{h t}{a}} A c_{w} + {8.0 \\cdot 10^{39}}^{\\frac{h t}{a}} c_{s} m_{s}}\\, dt}}{{2.17462546276724 \\cdot 10^{40}}^{\\frac{h t}{a}} A c_{w} + {8.0 \\cdot 10^{39}}^{\\frac{h t}{a}} c_{s} m_{s}}\\, dt - A^{2} T_{0} c_{w} h \\int \\frac{{2.17462546276724 \\cdot 10^{40}}^{\\frac{h t}{a}} e^{- A h \\int \\frac{{8.0 \\cdot 10^{39}}^{\\frac{h t}{a}}}{{2.17462546276724 \\cdot 10^{40}}^{\\frac{h t}{a}} A c_{w} + {8.0 \\cdot 10^{39}}^{\\frac{h t}{a}} c_{s} m_{s}}\\, dt}}{{2.17462546276724 \\cdot 10^{40}}^{\\frac{h t}{a}} A c_{w} + {8.0 \\cdot 10^{39}}^{\\frac{h t}{a}} c_{s} m_{s}}\\, dt - A L_{v} c_{s} m_{s} \\int \\frac{{2.17462546276724 \\cdot 10^{40}}^{\\frac{h t}{a}} e^{- A h \\int \\frac{{8.0 \\cdot 10^{39}}^{\\frac{h t}{a}}}{{2.17462546276724 \\cdot 10^{40}}^{\\frac{h t}{a}} A c_{w} + {8.0 \\cdot 10^{39}}^{\\frac{h t}{a}} c_{s} m_{s}}\\, dt}}{{2.17462546276724 \\cdot 10^{40}}^{\\frac{h t}{a}} A c_{w} + {8.0 \\cdot 10^{39}}^{\\frac{h t}{a}} c_{s} m_{s}}\\, dt - A T_{0} c_{s} h m_{s} \\int \\frac{{8.0 \\cdot 10^{39}}^{\\frac{h t}{a}} e^{- A h \\int \\frac{{8.0 \\cdot 10^{39}}^{\\frac{h t}{a}}}{{2.17462546276724 \\cdot 10^{40}}^{\\frac{h t}{a}} A c_{w} + {8.0 \\cdot 10^{39}}^{\\frac{h t}{a}} c_{s} m_{s}}\\, dt}}{{2.17462546276724 \\cdot 10^{40}}^{\\frac{h t}{a}} A c_{w} + {8.0 \\cdot 10^{39}}^{\\frac{h t}{a}} c_{s} m_{s}}\\, dt + A h \\int \\frac{{8.0 \\cdot 10^{39}}^{\\frac{h t}{a}} T{\\left(t \\right)} e^{- A h \\int \\frac{{8.0 \\cdot 10^{39}}^{\\frac{h t}{a}}}{{2.17462546276724 \\cdot 10^{40}}^{\\frac{h t}{a}} A c_{w} + {8.0 \\cdot 10^{39}}^{\\frac{h t}{a}} c_{s} m_{s}}\\, dt}}{{2.17462546276724 \\cdot 10^{40}}^{\\frac{h t}{a}} A c_{w} + {8.0 \\cdot 10^{39}}^{\\frac{h t}{a}} c_{s} m_{s}}\\, dt + C_{1}\\right) e^{A h \\int \\frac{{8.0 \\cdot 10^{39}}^{\\frac{h t}{a}}}{{2.17462546276724 \\cdot 10^{40}}^{\\frac{h t}{a}} A c_{w} + {8.0 \\cdot 10^{39}}^{\\frac{h t}{a}} c_{s} m_{s}}\\, dt}}{A h \\left(e^{A h \\int \\frac{{8.0 \\cdot 10^{39}}^{\\frac{h t}{a}}}{{2.17462546276724 \\cdot 10^{40}}^{\\frac{h t}{a}} A c_{w} + {8.0 \\cdot 10^{39}}^{\\frac{h t}{a}} c_{s} m_{s}}\\, dt}\\right) \\int \\frac{{8.0 \\cdot 10^{39}}^{\\frac{h t}{a}} e^{- A h \\int \\frac{{8.0 \\cdot 10^{39}}^{\\frac{h t}{a}}}{{2.17462546276724 \\cdot 10^{40}}^{\\frac{h t}{a}} A c_{w} + {8.0 \\cdot 10^{39}}^{\\frac{h t}{a}} c_{s} m_{s}}\\, dt}}{{2.17462546276724 \\cdot 10^{40}}^{\\frac{h t}{a}} A c_{w} + {8.0 \\cdot 10^{39}}^{\\frac{h t}{a}} c_{s} m_{s}}\\, dt + 1}$"
      ],
      "text/plain": [
       "Eq(T(t), (-A**2*L_v*c_w*Integral(5.91124487914454e+40**(h*t/a)*exp(-A*h*Integral(8.0e+39**(h*t/a)/(2.17462546276724e+40**(h*t/a)*A*c_w + 8.0e+39**(h*t/a)*c_s*m_s), t))/(2.17462546276724e+40**(h*t/a)*A*c_w + 8.0e+39**(h*t/a)*c_s*m_s), t) - A**2*T_0*c_w*h*Integral(2.17462546276724e+40**(h*t/a)*exp(-A*h*Integral(8.0e+39**(h*t/a)/(2.17462546276724e+40**(h*t/a)*A*c_w + 8.0e+39**(h*t/a)*c_s*m_s), t))/(2.17462546276724e+40**(h*t/a)*A*c_w + 8.0e+39**(h*t/a)*c_s*m_s), t) - A*L_v*c_s*m_s*Integral(2.17462546276724e+40**(h*t/a)*exp(-A*h*Integral(8.0e+39**(h*t/a)/(2.17462546276724e+40**(h*t/a)*A*c_w + 8.0e+39**(h*t/a)*c_s*m_s), t))/(2.17462546276724e+40**(h*t/a)*A*c_w + 8.0e+39**(h*t/a)*c_s*m_s), t) - A*T_0*c_s*h*m_s*Integral(8.0e+39**(h*t/a)*exp(-A*h*Integral(8.0e+39**(h*t/a)/(2.17462546276724e+40**(h*t/a)*A*c_w + 8.0e+39**(h*t/a)*c_s*m_s), t))/(2.17462546276724e+40**(h*t/a)*A*c_w + 8.0e+39**(h*t/a)*c_s*m_s), t) + A*h*Integral(8.0e+39**(h*t/a)*T(t)*exp(-A*h*Integral(8.0e+39**(h*t/a)/(2.17462546276724e+40**(h*t/a)*A*c_w + 8.0e+39**(h*t/a)*c_s*m_s), t))/(2.17462546276724e+40**(h*t/a)*A*c_w + 8.0e+39**(h*t/a)*c_s*m_s), t) + C1)*exp(A*h*Integral(8.0e+39**(h*t/a)/(2.17462546276724e+40**(h*t/a)*A*c_w + 8.0e+39**(h*t/a)*c_s*m_s), t))/(A*h*exp(A*h*Integral(8.0e+39**(h*t/a)/(2.17462546276724e+40**(h*t/a)*A*c_w + 8.0e+39**(h*t/a)*c_s*m_s), t))*Integral(8.0e+39**(h*t/a)*exp(-A*h*Integral(8.0e+39**(h*t/a)/(2.17462546276724e+40**(h*t/a)*A*c_w + 8.0e+39**(h*t/a)*c_s*m_s), t))/(2.17462546276724e+40**(h*t/a)*A*c_w + 8.0e+39**(h*t/a)*c_s*m_s), t) + 1))"
      ]
     },
     "execution_count": 14,
     "metadata": {},
     "output_type": "execute_result"
    }
   ],
   "source": [
    "sol = sym.dsolve(eq)\n",
    "sol"
   ]
  },
  {
   "cell_type": "markdown",
   "metadata": {},
   "source": [
    "There is no analytical solution (or at least, not a simple one that we could work with). Our best bet would be to find a numerical solution, but for that we need to give numerical values to all the remaining parameters, and specify the initial condition."
   ]
  },
  {
   "cell_type": "markdown",
   "metadata": {},
   "source": []
  }
 ],
 "metadata": {
  "kernelspec": {
   "display_name": "Python 3",
   "language": "python",
   "name": "python3"
  },
  "language_info": {
   "codemirror_mode": {
    "name": "ipython",
    "version": 3
   },
   "file_extension": ".py",
   "mimetype": "text/x-python",
   "name": "python",
   "nbconvert_exporter": "python",
   "pygments_lexer": "ipython3",
   "version": "3.12.4"
  }
 },
 "nbformat": 4,
 "nbformat_minor": 2
}
